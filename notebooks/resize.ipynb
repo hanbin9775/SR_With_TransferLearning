{
 "cells": [
  {
   "cell_type": "code",
   "execution_count": 1,
   "id": "ahead-paste",
   "metadata": {},
   "outputs": [],
   "source": [
    "from glob import glob\n",
    "import cv2\n",
    "\n",
    "images = sorted(glob(\"../bbb_sunflower_540p/*.png\"))"
   ]
  },
  {
   "cell_type": "code",
   "execution_count": 2,
   "id": "rapid-tension",
   "metadata": {},
   "outputs": [],
   "source": [
    "from pathlib import Path\n",
    "Path(\"../dataset/DIV2K/DIV2K_train_HR\").mkdir(parents=True, exist_ok=True)\n",
    "Path(\"../dataset/DIV2K/DIV2K_train_LR_bicubic/X2\").mkdir(parents=True, exist_ok=True)"
   ]
  },
  {
   "cell_type": "code",
   "execution_count": 3,
   "id": "visible-texas",
   "metadata": {},
   "outputs": [
    {
     "name": "stderr",
     "output_type": "stream",
     "text": [
      "100%|██████████| 1800/1800 [01:21<00:00, 22.00it/s]\n"
     ]
    }
   ],
   "source": [
    "from tqdm import tqdm\n",
    "for image in tqdm(images):\n",
    "    hr = cv2.imread(image, cv2.IMREAD_COLOR)\n",
    "    lr = cv2.resize(hr, dsize=(480, 270), interpolation=cv2.INTER_CUBIC)\n",
    "\n",
    "    cv2.imwrite(\"../dataset/DIV2K/DIV2K_train_HR/\" + Path(image).name, hr)\n",
    "    cv2.imwrite(\"../dataset/DIV2K/DIV2K_train_LR_bicubic/X2/\" + Path(image).stem + \"x2.png\", lr)"
   ]
  },
  {
   "cell_type": "code",
   "execution_count": null,
   "id": "fallen-religion",
   "metadata": {},
   "outputs": [],
   "source": []
  }
 ],
 "metadata": {
  "kernelspec": {
   "display_name": "Python 3",
   "language": "python",
   "name": "python3"
  },
  "language_info": {
   "codemirror_mode": {
    "name": "ipython",
    "version": 3
   },
   "file_extension": ".py",
   "mimetype": "text/x-python",
   "name": "python",
   "nbconvert_exporter": "python",
   "pygments_lexer": "ipython3",
   "version": "3.7.7"
  }
 },
 "nbformat": 4,
 "nbformat_minor": 5
}
