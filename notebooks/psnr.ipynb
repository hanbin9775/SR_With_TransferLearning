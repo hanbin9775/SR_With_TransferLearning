{
 "cells": [
  {
   "cell_type": "code",
   "execution_count": 15,
   "id": "automotive-circus",
   "metadata": {},
   "outputs": [],
   "source": [
    "from glob import glob\n",
    "import cv2\n",
    "from tqdm import tqdm\n",
    "\n",
    "gt_list = sorted(glob(\"../bbb_sunflower_1080p/*.png\"))\n",
    "sr_list = sorted(glob(\"./experiment/test/results-Demo/*.png\"))"
   ]
  },
  {
   "cell_type": "code",
   "execution_count": 16,
   "id": "unique-wichita",
   "metadata": {},
   "outputs": [
    {
     "name": "stderr",
     "output_type": "stream",
     "text": [
      "100%|██████████| 1800/1800 [02:55<00:00, 10.24it/s]\n"
     ]
    }
   ],
   "source": [
    "with open(\"result.csv\", \"w\") as f:\n",
    "    f.write(\"idx,psnr\\n\");\n",
    "    for idx, (gt, sr) in tqdm(enumerate(zip(gt_list, sr_list)), total=len(sr_list)):\n",
    "        gt_img = cv2.imread(gt)\n",
    "        sr_img = cv2.imread(sr)\n",
    "        psnr = cv2.PSNR(gt_img, sr_img)\n",
    "        f.write(f\"{idx},{psnr}\\n\")"
   ]
  },
  {
   "cell_type": "code",
   "execution_count": null,
   "id": "raised-projector",
   "metadata": {},
   "outputs": [],
   "source": []
  }
 ],
 "metadata": {
  "kernelspec": {
   "display_name": "Python 3",
   "language": "python",
   "name": "python3"
  },
  "language_info": {
   "codemirror_mode": {
    "name": "ipython",
    "version": 3
   },
   "file_extension": ".py",
   "mimetype": "text/x-python",
   "name": "python",
   "nbconvert_exporter": "python",
   "pygments_lexer": "ipython3",
   "version": "3.7.7"
  }
 },
 "nbformat": 4,
 "nbformat_minor": 5
}
